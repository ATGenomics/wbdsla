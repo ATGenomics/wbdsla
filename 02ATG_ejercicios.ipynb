{
 "cells": [
  {
   "cell_type": "markdown",
   "metadata": {},
   "source": [
    "<img src=\"./imgs/banner.png\" align=\"center\"/>"
   ]
  },
  {
   "cell_type": "markdown",
   "metadata": {},
   "source": [
    "## ¡Te damos la bienvenida a la experiencia ATGenomics! \n",
    "\n",
    "### En el taller \"Exploración de Datos Biológicos con Pandas\" aprenderemos a usar diversas funciones de la biblioteca pandas. El objetivo principal es que aprendas a realizar un análisis exploratorio de tus datos bioinformáticos y te diviertas en el proceso. "
   ]
  },
  {
   "cell_type": "markdown",
   "metadata": {},
   "source": [
    "# 2. Cuadernillo de ejercicios"
   ]
  },
  {
   "cell_type": "markdown",
   "metadata": {},
   "source": [
    "<img src=\"./imgs/line.png\" align=\"left\"/>"
   ]
  },
  {
   "cell_type": "markdown",
   "metadata": {},
   "source": [
    "# ¿Qué preguntas biologicas podemos abordar con pandas?\n",
    "En la enciclopedia de genes y genomas de Kyoto ([KEGG](https://www.genome.jp/kegg/) por sus siglas en inglés), están depositadas cientos de rutas metabólicas y mapas celulares que se han construido mediante la integración de técnicas moleculares, genéticas, bioquímicas y de otras disciplinas.\n",
    "\n",
    "## Unas rutas como ejemplo\n",
    "\n",
    "A continuación enlistamos un par de rutas metabólicas que podrían ser de interés y que podemos analizar usando **Pandas**\n",
    "* [hsa04930](https://www.genome.jp/pathway/hsa04930) - Type II diabetes mellitus\n",
    "* [hsa05010](https://www.genome.jp/pathway/hsa05010) - Alzheimer disease\n",
    "* [hsa05012](https://www.genome.jp/pathway/hsa05012) - Parkinson disease\n",
    "* [hsa05030](https://www.genome.jp/pathway/hsa05030) - Cocaine addiction\n",
    "* [hsa05144](https://www.genome.jp/pathway/hsa05144) - Malaria\n",
    "* [hsa05210](https://www.genome.jp/pathway/hsa05210) - Colorectal cancer\n",
    "* [hsa05224](https://www.genome.jp/pathway/hsa05224) - Breast cancer\n",
    "\n",
    "Cada ruta consta de genes, proteínas, compuestos, reacciones, e interacciones entre cada elemento."
   ]
  },
  {
   "cell_type": "markdown",
   "metadata": {},
   "source": [
    "## Exploremos estas rutas con Pandas!\n",
    "<img src=\"./imgs/img_pandas2.jpeg\" align=\"center\"/>"
   ]
  },
  {
   "cell_type": "markdown",
   "metadata": {},
   "source": [
    "## 1. Cargamos los modulos necesarios"
   ]
  },
  {
   "cell_type": "code",
   "execution_count": 1,
   "metadata": {},
   "outputs": [],
   "source": [
    "import os                                 # Con este módulo podemos manipular elementos del sistema operativo\n",
    "import gzip                               # Este módulo lo emplearemos para manejar archivos comprimidos\n",
    "import wget                               # wget & requests nos sirven para descargar archivos e interactuar con sitios web\n",
    "import requests                           # \n",
    "import pandas as pd                       # nuestro módulo principal\n",
    "import seaborn as sns                     # usaremos seaborn & matplotlib para graficar los resultados que obtengamos con pandas\n",
    "import matplotlib.pyplot as plt           # \n",
    "from PIL import Image                     # finalmente, usaremos wordcloud y un par de módulos adicionales para analizar nuestras rutas\n",
    "from wordcloud import WordCloud           #\n",
    "from wordcloud import STOPWORDS           #\n",
    "from wordcloud import ImageColorGenerator #"
   ]
  },
  {
   "cell_type": "markdown",
   "metadata": {},
   "source": [
    "## 2. Descargamos el archivo gff que hemos empleado a lo largo del taller\n",
    "\n",
    "<div class=\"alert alert-warning\">Este paso es opcional ya que hemos trabajado con el mismo archivo desde el inicio, pero lo incluimos por si quieres realizar los ejercicios iniciando en este punto</div>"
   ]
  },
  {
   "cell_type": "code",
   "execution_count": 2,
   "metadata": {},
   "outputs": [
    {
     "data": {
      "text/plain": [
       "43154053"
      ]
     },
     "execution_count": 2,
     "metadata": {},
     "output_type": "execute_result"
    }
   ],
   "source": [
    "os.makedirs('data', exist_ok=True)\n",
    "url      = 'http://ftp.ensembl.org/pub/release-104/gff3/homo_sapiens/Homo_sapiens.GRCh38.104.gff3.gz'\n",
    "request  = requests.get(url, allow_redirects=True)\n",
    "filename = \"./data/Homo_sapiens.GRCh38.104.gff3.gz\"\n",
    "open(filename, \"wb\").write(request.content)"
   ]
  },
  {
   "cell_type": "markdown",
   "metadata": {},
   "source": [
    "## 3. Construimos un dataframe con pandas indicando el nombre de las columnas con base en la especificación del formato gff\n",
    "\n",
    "* Column 1: \"seqid\"\n",
    "* Column 2: \"source\"\n",
    "* Column 3: \"type\"\n",
    "* Columns 4 & 5: \"start\" and \"end\"\n",
    "* Column 6: \"score\"\n",
    "* Column 7: \"strand\"\n",
    "* Column 8: \"phase\"\n",
    "* Column 9: \"attributes\""
   ]
  },
  {
   "cell_type": "code",
   "execution_count": 3,
   "metadata": {},
   "outputs": [],
   "source": [
    "df = pd.read_csv(\"data/Homo_sapiens.GRCh38.104.gff3.gz\", sep=\"\\t\", comment=\"#\", dtype=\"str\", header=None, names=[\"seqid\",\"source\",\"type\",\"start\",\"end\",\"score\",\"strand\",\"phase\",\"attributes\"])"
   ]
  },
  {
   "cell_type": "markdown",
   "metadata": {},
   "source": [
    "## 4. Eliminamos las entradas en el archivo gff que correspondan a secuencias que no tienen aún una localizacion genómica\n",
    "\n",
    "1. Primero haremos una copia del dataframe original, así, si cometemos un error podemos regresar al punto inicial *#bestpractices*\n",
    "2. Posteriormente eliminamos las entradas que contengan `KI` o `GL` en la columna `seqid`\n",
    "3. Reiniciamos el índice de nuestro nuevo dataframe"
   ]
  },
  {
   "cell_type": "code",
   "execution_count": 4,
   "metadata": {},
   "outputs": [],
   "source": [
    "filtered_df = df.copy()\n",
    "filtered_df = filtered_df[~filtered_df['seqid'].str.contains('[KI, GL]')].reset_index(drop=True)"
   ]
  },
  {
   "cell_type": "markdown",
   "metadata": {},
   "source": [
    "## 5. Conservamos únicamente las entradas que correspondan al tipo `gene`\n",
    "\n",
    "Recuerda que es recomendable construir una copia del dataframe original"
   ]
  },
  {
   "cell_type": "code",
   "execution_count": 5,
   "metadata": {},
   "outputs": [],
   "source": [
    "genes = filtered_df.copy()\n",
    "genes = genes[genes['type'] == 'gene'].reset_index(drop=True)"
   ]
  },
  {
   "cell_type": "markdown",
   "metadata": {},
   "source": [
    "## 6. Construimos un nuevo dataframe pero únicamente con la novena columna del dataset (`attributes`)\n",
    "\n",
    "1. Nuestro nuevo dataframe requiere los nombres de las columnas, las cuales están almacenadas en el diccionario `attribute_names`\n",
    "2. Para no alterar el dataframe `genes` construimos una copia de dicho dataframe\n",
    "3. Transformamos la columna 9 en un dataframe usando `\";\"` como separador"
   ]
  },
  {
   "cell_type": "code",
   "execution_count": 6,
   "metadata": {},
   "outputs": [],
   "source": [
    "attribute_names = {0:\"id\",1:\"name\",2:\"biotype\",3:\"description\",4:\"gene_id\",5:\"logic_name\",6:\"version\"}\n",
    "attributes = genes.copy()\n",
    "attributes = attributes[\"attributes\"].str.split(\";\",expand=True).rename(attribute_names,axis=1)"
   ]
  },
  {
   "cell_type": "markdown",
   "metadata": {},
   "source": [
    "## 7. Construimos *otro* dataframe fusionando los dataframes `genes` & `attributes`\n",
    "\n",
    "1. Dado que en el dataframe `attributes` ya tenemos la información de la columna 9, no necesitamos la columna `attributes` en el dataframe `genes`"
   ]
  },
  {
   "cell_type": "code",
   "execution_count": 7,
   "metadata": {},
   "outputs": [],
   "source": [
    "genes_attributes = pd.concat([genes.drop(\"attributes\",axis=1),attributes], axis=1)"
   ]
  },
  {
   "cell_type": "markdown",
   "metadata": {},
   "source": [
    "## 8. Limpiamos el dataframe para quitarnos de strings no deseados\n",
    "\n",
    "1. Usando una expresión regular, eliminamos todo aquello que esté antes de un signo `\"=\"` en cada columna\n",
    "2. Usando otra expresión regular, eliminamos el string `gene:` en cada columna\n",
    "3. Usando una expresión regular más compleja, eliminamos todo aquello que inicie con `\"[Source\"` en cada columna"
   ]
  },
  {
   "cell_type": "code",
   "execution_count": 8,
   "metadata": {},
   "outputs": [],
   "source": [
    "genes_attributes = genes_attributes.replace('.*=', '', regex=True).replace('gene:', '', regex=True).replace(\"\\[Source.*\",\"\",regex=True)"
   ]
  },
  {
   "cell_type": "markdown",
   "metadata": {},
   "source": [
    "## 9. Nuestro dataframe no está ordenado, de modo que debemos ordenarlo adecuadamente\n",
    "\n",
    "### ¿Cómo ordenamos los cromosomas?\n",
    "\n",
    "* No podemos ordenar nuestros cromosomas de forma numérica porque tenemos 3 secuencias que no son números (`X`,`Y` & `MT` )\n",
    "* No podemos ordenar nuestros cromosomas de forma numérica porque en el dataframe la columna `seqid` es de tipo `str`\n",
    "\n",
    "#### Lo que si podemos hacer es ordenar nuestro dataframe usando una lista!\n",
    "\n",
    "1. Construimos una nueva copia temporal del dataframe porque #sanitycheck\n",
    "2. Construimos una copia adicional del dataframe, la cúal iremos alimentando con las entradas de cada cromosoma. Este dataframe contendrá inicialmente las entradas correspondientes únicamente al cromosoma 1\n",
    "3. Construimos una lista con los cromosomas ordenados\n",
    "4. Iteramos sobre nuestra lista, tomando los elementos del dataframe temporal que correspondan a cada cromosoma y los pasamos a nuestro dataframe final (paso 9.2)\n",
    "5. Verificamos los resultados"
   ]
  },
  {
   "cell_type": "code",
   "execution_count": 9,
   "metadata": {},
   "outputs": [
    {
     "data": {
      "text/plain": [
       "array(['1', '10', '11', '12', '13', '14', '15', '16', '17', '18', '19',\n",
       "       '2', '20', '21', '22', '3', '4', '5', '6', '7', '8', '9', 'MT',\n",
       "       'X', 'Y'], dtype=object)"
      ]
     },
     "metadata": {},
     "output_type": "display_data"
    },
    {
     "data": {
      "text/plain": [
       "array(['1', '2', '3', '4', '5', '6', '7', '8', '9', '10', '11', '12',\n",
       "       '13', '14', '15', '16', '17', '18', '19', '20', '21', '22', 'X',\n",
       "       'Y', 'MT'], dtype=object)"
      ]
     },
     "metadata": {},
     "output_type": "display_data"
    }
   ],
   "source": [
    "genes_tmp = genes_attributes.copy()\n",
    "genes_attributes_sorted = genes_tmp[genes_tmp[\"seqid\"]==\"1\"]\n",
    "chromosome_list = [\"2\",\"3\",\"4\",\"5\",\"6\",\"7\",\"8\",\"9\",\"10\",\"11\",\"12\",\"13\",\"14\",\"15\",\"16\",\"17\",\"18\",\"19\",\"20\",\"21\",\"22\",\"X\",\"Y\",\"MT\"]\n",
    "for chromosome in chromosome_list:\n",
    "    genes_chrom = genes_tmp[genes_tmp[\"seqid\"]==chromosome]\n",
    "    genes_attributes_sorted = pd.concat([genes_attributes_sorted,genes_chrom],axis=0)\n",
    "display(pd.unique(genes_attributes[\"seqid\"]))\n",
    "display(pd.unique(genes_attributes_sorted[\"seqid\"]))"
   ]
  },
  {
   "cell_type": "markdown",
   "metadata": {},
   "source": [
    "## 10. Cambiamos el tipo de datos en las columnas 4 y 5\n",
    "\n",
    "1. En el paso 3, le indicamos a pandas que todas las columnas deben ser de tipo `str`, sin embargo, las columnas 4,5 & 6 deben ser de tipo numérico para que podamos sacarles el mayor provecho"
   ]
  },
  {
   "cell_type": "code",
   "execution_count": 10,
   "metadata": {},
   "outputs": [],
   "source": [
    "genes_attributes_sorted[\"start\"] = pd.to_numeric(genes_attributes_sorted[\"start\"])\n",
    "genes_attributes_sorted[\"end\"]   = pd.to_numeric(genes_attributes_sorted[\"end\"])"
   ]
  },
  {
   "cell_type": "markdown",
   "metadata": {},
   "source": [
    "# Contacto"
   ]
  },
  {
   "cell_type": "markdown",
   "metadata": {},
   "source": [
    "<img src=\"./imgs/line.png\" align=\"left\"/>"
   ]
  },
  {
   "cell_type": "markdown",
   "metadata": {},
   "source": [
    "### Este curso es llevado a ti por [ATGenomics](https://atgenomics.com/), una iniciativa mexicana dedicada a la divulgación, promoción y capacitación en bioinformática.\n",
    "\n",
    "### [@solnavss](https://twitter.com/solnavss) / [@dianolasa](https://twitter.com/dianolasa) / [@zorbax](https://twitter.com/zorbax) / [@vflorelo](https://twitter.com/vflorelo)"
   ]
  }
 ],
 "metadata": {
  "kernelspec": {
   "display_name": "Python 3",
   "language": "python",
   "name": "python3"
  },
  "language_info": {
   "codemirror_mode": {
    "name": "ipython",
    "version": 3
   },
   "file_extension": ".py",
   "mimetype": "text/x-python",
   "name": "python",
   "nbconvert_exporter": "python",
   "pygments_lexer": "ipython3",
   "version": "3.7.4"
  }
 },
 "nbformat": 4,
 "nbformat_minor": 5
}
