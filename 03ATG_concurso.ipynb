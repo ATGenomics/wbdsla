{
 "cells": [
  {
   "cell_type": "markdown",
   "metadata": {},
   "source": [
    "<img src=\"./imgs/banner.png\" align=\"center\"/>"
   ]
  },
  {
   "cell_type": "markdown",
   "metadata": {},
   "source": [
    "## ¡Te damos la bienvenida a la experiencia ATGenomics! \n",
    "\n",
    "### En el taller \"Exploración de Datos Biológicos con Pandas\" aprenderemos a usar diversas funciones de la biblioteca pandas. El objetivo principal es que aprendas a realizar un análisis exploratorio de tus datos bioinformáticos y te diviertas en el proceso. "
   ]
  },
  {
   "cell_type": "markdown",
   "metadata": {},
   "source": [
    "# 3. Cuadernillo de ejercicios - concurso"
   ]
  },
  {
   "cell_type": "markdown",
   "metadata": {},
   "source": [
    "<img src=\"./imgs/line.png\" align=\"left\"/>"
   ]
  },
  {
   "cell_type": "markdown",
   "metadata": {},
   "source": [
    "# Ejercicio X: ¿Hay alguna relación entre la posición genómica de los genes involucrados en rutas metabólicas?\n",
    "\n",
    "### Empezaremos por escoger una lista de genes, recuerda que tienes las siguientes opciones:\n",
    "\n",
    "* [hsa04930](https://www.genome.jp/pathway/hsa04930) - Type II diabetes mellitus\n",
    "* [hsa05010](https://www.genome.jp/pathway/hsa05010) - Alzheimer disease\n",
    "* [hsa05012](https://www.genome.jp/pathway/hsa05012) - Parkinson disease\n",
    "* [hsa05030](https://www.genome.jp/pathway/hsa05030) - Cocaine addiction\n",
    "* [hsa05144](https://www.genome.jp/pathway/hsa05144) - Malaria\n",
    "* [hsa05210](https://www.genome.jp/pathway/hsa05210) - Colorectal cancer\n",
    "* [hsa05224](https://www.genome.jp/pathway/hsa05224) - Breast cancer\n",
    "\n",
    "Para seleccionar tu lista de genes, deja la línea correspondiente sin comentario"
   ]
  },
  {
   "cell_type": "code",
   "execution_count": 11,
   "metadata": {},
   "outputs": [],
   "source": [
    "#pathway = \"hsa04930.list\"\n",
    "#pathway = \"hsa05010.list\"\n",
    "#pathway = \"hsa05012.list\"\n",
    "#pathway = \"hsa05030.list\"\n",
    "#pathway = \"hsa05144.list\"\n",
    "#pathway = \"hsa05210.list\"\n",
    "pathway = \"hsa05224.list\"\n",
    "with open(pathway) as file:\n",
    "    gene_list = file.readlines()\n",
    "    gene_list = [gene.rstrip() for gene in gene_list]"
   ]
  },
  {
   "cell_type": "markdown",
   "metadata": {},
   "source": [
    "### Ahora construimos un dataframe que contenga únicamente los genes que correspondan a nuestro pathway:"
   ]
  },
  {
   "cell_type": "code",
   "execution_count": 12,
   "metadata": {},
   "outputs": [],
   "source": [
    "pathway_df = genes_attributes_sorted.copy()\n",
    "pathway_df = pathway_df[pathway_df[\"name\"].isin(gene_list)]"
   ]
  },
  {
   "cell_type": "markdown",
   "metadata": {},
   "source": [
    "### Y graficamos el resultado usando un `stripplot`\n",
    "* Cada cromosoma representará una categoría en el eje Y (`y=\"seqid\"`)\n",
    "* Las coordenadas de inicio de cada gen serán nuestros puntos en el stripplot (`x=\"start\"`)\n",
    "* Separaremos nuestra gráfica por dirección del gen (`hue=\"strand\"`)"
   ]
  },
  {
   "cell_type": "code",
   "execution_count": 13,
   "metadata": {},
   "outputs": [
    {
     "data": {
      "image/png": "[encoded data removed]",
      "text/plain": [
       "<Figure size 1296x432 with 1 Axes>"
      ]
     },
     "metadata": {
      "needs_background": "light"
     },
     "output_type": "display_data"
    }
   ],
   "source": [
    "plt.figure(figsize=(18,6))\n",
    "ax = sns.stripplot(data=pathway_df, x=\"start\", y=\"seqid\", hue=\"strand\",size=10,alpha=0.75,jitter=0).set_title(pathway.split(\".\")[0])\n",
    "plt.show()\n",
    "plt.close()"
   ]
  },
  {
   "cell_type": "markdown",
   "metadata": {},
   "source": [
    "## Para que hagas en casa\n",
    "\n",
    "1. Selecciona distintas rutas metabólicas y grafica los resultados. Las distribuciones son similares?\n",
    "2. En la ruta metabólica que seleccionaste, hay más genes en un cromosoma específico?\n",
    "3. En la ruta metabólica que seleccionaste, hay más genes en las cadenas \"+\" o \"-\"?"
   ]
  },
  {
   "cell_type": "markdown",
   "metadata": {},
   "source": [
    "# Ejercicio Y: ¿La descripción de los genes nos puede decir algo de las rutas metabólicas?\n",
    "\n",
    "Ya que tenemos nuestro dataframe filtrado y ordenado, podemos realizar conteos rápidos que nos brindan información de nuestras rutas metabólicas.\n",
    "\n",
    "Una aproximacion ligera pero informativa son los wordclouds: representaciones gráficas en dónde las palabras se muestran con tamaños proporcionales a su frecuencia.\n",
    "\n",
    "### Empezaremos por escoger una lista de genes, recuerda que tienes las siguientes opciones:\n",
    "\n",
    "* [hsa04930](https://www.genome.jp/pathway/hsa04930) - Type II diabetes mellitus\n",
    "* [hsa05010](https://www.genome.jp/pathway/hsa05010) - Alzheimer disease\n",
    "* [hsa05012](https://www.genome.jp/pathway/hsa05012) - Parkinson disease\n",
    "* [hsa05030](https://www.genome.jp/pathway/hsa05030) - Cocaine addiction\n",
    "* [hsa05144](https://www.genome.jp/pathway/hsa05144) - Malaria\n",
    "* [hsa05210](https://www.genome.jp/pathway/hsa05210) - Colorectal cancer\n",
    "* [hsa05224](https://www.genome.jp/pathway/hsa05224) - Breast cancer\n",
    "\n",
    "Para seleccionar tu lista de genes, deja la línea correspondiente sin comentario"
   ]
  },
  {
   "cell_type": "markdown",
   "metadata": {},
   "source": [
    "## Para que hagas en casa\n",
    "\n",
    "1. Selecciona distintas rutas metabólicas y grafica los resultados. Las distribuciones son similares?\n",
    "2. Podrías ampliar tus listas de genes con base en lo que observaste en tus wordclouds?\n",
    "3. Hay algunos términos que no son muy informativos, cómo podrías eliminarlos de tu wordcloud?"
   ]
  },
  {
   "cell_type": "markdown",
   "metadata": {},
   "source": [
    "# Ejercicio Z: Digamos que me interesa analizar estos genes en el laboratorio. ¿Cuanto me va a costar?\n",
    "\n",
    "Actualmente se pueden realizar diversos estudios moleculares a nivel de genes, transcritos y proteínas, en este curso no hacemos distinción de ningun tipo y partiremos de un supuesto que es válido hasta el momento: \"Cuanto más largo sea un gen o una molécula de RNA o una proteína, más me va a costar analizarlo\". Y en consecuencia, cuantos más genes tenga mi pathway, más recursos debo invertir para analizarla.\n",
    "\n",
    "### Empezaremos por escoger una lista de genes, recuerda que tienes las siguientes opciones:\n",
    "\n",
    "* [hsa04930](https://www.genome.jp/pathway/hsa04930) - Type II diabetes mellitus\n",
    "* [hsa05010](https://www.genome.jp/pathway/hsa05010) - Alzheimer disease\n",
    "* [hsa05012](https://www.genome.jp/pathway/hsa05012) - Parkinson disease\n",
    "* [hsa05030](https://www.genome.jp/pathway/hsa05030) - Cocaine addiction\n",
    "* [hsa05144](https://www.genome.jp/pathway/hsa05144) - Malaria\n",
    "* [hsa05210](https://www.genome.jp/pathway/hsa05210) - Colorectal cancer\n",
    "* [hsa05224](https://www.genome.jp/pathway/hsa05224) - Breast cancer\n",
    "\n",
    "Para seleccionar tu lista de genes, deja la línea correspondiente sin comentario"
   ]
  },
  {
   "cell_type": "markdown",
   "metadata": {},
   "source": [
    "# Contacto"
   ]
  },
  {
   "cell_type": "markdown",
   "metadata": {},
   "source": [
    "<img src=\"./imgs/line.png\" align=\"left\"/>"
   ]
  },
  {
   "cell_type": "markdown",
   "metadata": {},
   "source": [
    "### Este curso es llevado a ti por [ATGenomics](https://atgenomics.com/), una iniciativa mexicana dedicada a la divulgación, promoción y capacitación en bioinformática.\n",
    "\n",
    "### [@solnavss](https://twitter.com/solnavss) / [@dianolasa](https://twitter.com/dianolasa) / [@zorbax](https://twitter.com/zorbax) / [@vflorelo](https://twitter.com/vflorelo)"
   ]
  }
 ],
 "metadata": {
  "kernelspec": {
   "display_name": "Python 3",
   "language": "python",
   "name": "python3"
  },
  "language_info": {
   "codemirror_mode": {
    "name": "ipython",
    "version": 3
   },
   "file_extension": ".py",
   "mimetype": "text/x-python",
   "name": "python",
   "nbconvert_exporter": "python",
   "pygments_lexer": "ipython3",
   "version": "3.7.4"
  }
 },
 "nbformat": 4,
 "nbformat_minor": 5
}
