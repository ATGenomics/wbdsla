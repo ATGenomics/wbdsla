{
 "cells": [
  {
   "cell_type": "markdown",
   "metadata": {},
   "source": [
    "<img src=\"./imgs/banner.png\" align=\"center\"/>"
   ]
  },
  {
   "cell_type": "markdown",
   "metadata": {},
   "source": [
    "## ¡Te damos la bienvenida a la experiencia ATGenomics! \n",
    "\n",
    "### En el taller \"Exploración de Datos Biológicos con Pandas\" aprenderemos a usar diversas funciones de la biblioteca pandas. El objetivo principal es que aprendas a realizar un análisis exploratorio de tus datos bioinformáticos y te diviertas en el proceso. "
   ]
  },
  {
   "cell_type": "markdown",
   "metadata": {},
   "source": [
    "<img src=\"./imgs/line.png\" align=\"left\"/>"
   ]
  },
  {
   "cell_type": "markdown",
   "metadata": {},
   "source": [
    "### El temario se dividirá en tres módulos:\n",
    "\n",
    "### Módulo 01\n",
    "\n",
    "* ¿Por qué python?\n",
    "* Algunas características de python\n",
    "* ¿Cómo usar python?\n",
    "* El ecosistema de python\n",
    "* ¿Qué es una biblioteca/paquete/library?\n",
    "* Pandas\n",
    "\n",
    "### Módulo 02\n",
    "\n",
    "* ¿Por qué python?\n",
    "* Algunas características de python\n",
    "* ¿Cómo usar python?\n",
    "* El ecosistema de python\n",
    "* ¿Qué es una biblioteca/paquete/library?\n",
    "* Pandas\n",
    "\n",
    "### Módulo 03\n",
    "\n",
    "* ¿Por qué python?\n",
    "* Algunas características de python\n",
    "* ¿Cómo usar python?\n",
    "* El ecosistema de python\n",
    "* ¿Qué es una biblioteca/paquete/library?\n",
    "* Pandas"
   ]
  },
  {
   "cell_type": "markdown",
   "metadata": {},
   "source": [
    "# Módulo 01"
   ]
  },
  {
   "cell_type": "markdown",
   "metadata": {},
   "source": [
    "<img src=\"./imgs/line.png\" align=\"left\"/>"
   ]
  },
  {
   "cell_type": "markdown",
   "metadata": {},
   "source": [
    "## ¿Por qué python?\n",
    "\n",
    "* Es un lenguaje multiplataforma\n",
    "* Es un lenguaje open-source\n",
    "* Tiene una comunidad muy grande\n",
    "* Tiene capacidades de desarrollo back-end y front-end\n",
    "* Posee infinidad de paquetes (pip y conda)\n",
    "* Pocas y simples líneas de código\n"
   ]
  },
  {
   "cell_type": "markdown",
   "metadata": {},
   "source": [
    "<img src=\"./imgs/img_python.jpg\" align=\"center\" width=\"950\"/>"
   ]
  },
  {
   "cell_type": "markdown",
   "metadata": {},
   "source": [
    "## Algunas características de python\n",
    "\n",
    "* multipropósito\n",
    "* interpretado\n",
    "* interactivo\n",
    "* de alto nivel\n",
    "* orientado a objetos\n",
    "\n",
    "## ¿Cómo usar python?\n",
    "\n",
    "* A través del intérprete\n",
    "\n",
    "Sesión interactiva de python, también llamada **python shell (>>>)**\n",
    "\n",
    "Utilizando el intérprete en la terminal (scripting mode): **python hello.py**\n",
    "\n",
    "\n",
    "* Utilizando *\"Interactive Python\"*\n",
    "\n",
    "Una sesión interactiva IPython en terminal **(In[1]:)**\n",
    "\n",
    "Una IPython notebook, conocida como **Jupyter Notebook**"
   ]
  },
  {
   "cell_type": "markdown",
   "metadata": {},
   "source": [
    "## \"python es un lenguaje megadiverso...\" o la gran Pythontitlán"
   ]
  },
  {
   "cell_type": "markdown",
   "metadata": {},
   "source": [
    "<img src=\"./imgs/img_python2.png\" align=\"center\" width=\"950\"/>"
   ]
  },
  {
   "cell_type": "markdown",
   "metadata": {},
   "source": [
    "## ¿Qué es una biblioteca / paquete / library?\n",
    "\n",
    "* En programación una biblioteca es una colección de rutinas precompiladas\n",
    "* Las rutinas, a veces llamadas módulos, se almacenan en formato de objeto\n",
    "* Las bibliotecas son particularmente útiles para almacenar rutinas de uso frecuente\n",
    "* Permiten el acceso de funcionalidades del sistema y soluciones estandarizadas a problemas de programación, etc."
   ]
  },
  {
   "cell_type": "raw",
   "metadata": {},
   "source": [
    "import numpy as np\n",
    "import pandas as pd"
   ]
  },
  {
   "cell_type": "markdown",
   "metadata": {},
   "source": [
    "## Pandas\n",
    "\n",
    "<img src=\"./imgs/pandas.png\" align=\"center\"/>\n",
    "\n",
    "*El nombre se deriva del término \"panel data\", un término econométrico para conjuntos de datos que incluyen observaciones durante múltiples períodos de tiempo.*"
   ]
  },
  {
   "cell_type": "markdown",
   "metadata": {},
   "source": [
    "[Pandas](https://pandas.pydata.org/pandas-docs/stable/index.html) es una biblioteca de software escrita como extensión de NumPy para manipulación y análisis de datos. NumPy añade un potente tipo matricial a Python. Los principales tipos de datos que pueden representarse con pandas son:\n",
    "\n",
    "* Datos tabulares con columnas de tipo heterogéneo con etiquetas en columnas y filas\n",
    "* Series temporales\n",
    "\n",
    "Pandas proporciona herramientas que permiten:\n",
    "\n",
    "* leer y escribir datos en diferentes formatos: CSV, Microsoft Excel, bases SQL y formato HDF5\n",
    "* seleccionar y filtrar de manera sencilla tablas de datos en función de posición, valor o etiquetas\n",
    "* fusionar y unir datos\n",
    "* transformar datos aplicando funciones tanto en global como por ventanas\n",
    "* manipulación de series temporales\n",
    "* hacer gráficas\n",
    "\n",
    "En pandas existen **tres tipos básicos de objetos** todos ellos basados a su vez en Numpy:\n",
    "\n",
    "* Series (listas, 1D),\n",
    "* DataFrame (tablas, 2D) y\n",
    "* Panels (tablas 3D).\n",
    "\n",
    "Para mayor detalle puedes consultar su [documentación](https://bioinf.comav.upv.es/courses/linux/python/pandas.html)."
   ]
  },
  {
   "cell_type": "markdown",
   "metadata": {},
   "source": [
    "<img src=\"./imgs/line.png\" align=\"left\"/>"
   ]
  },
  {
   "cell_type": "markdown",
   "metadata": {},
   "source": [
    "## Contacto\n",
    "\n",
    "### Este curso es llevado a ti por [ATGenomics](https://atgenomics.com/), una iniciativa mexicana dedicada a la divulgación, promoción y capacitación en bioinformática.\n",
    "\n",
    "### [@solnavss](https://twitter.com/solnavss) / [@dianolasa](https://twitter.com/dianolasa) / [@zorbax](https://twitter.com/zorbax) / [@vflorelo](https://twitter.com/vflorelo)"
   ]
  }
 ],
 "metadata": {
  "kernelspec": {
   "display_name": "Python 3",
   "language": "python",
   "name": "python3"
  },
  "language_info": {
   "codemirror_mode": {
    "name": "ipython",
    "version": 3
   },
   "file_extension": ".py",
   "mimetype": "text/x-python",
   "name": "python",
   "nbconvert_exporter": "python",
   "pygments_lexer": "ipython3",
   "version": "3.7.4"
  }
 },
 "nbformat": 4,
 "nbformat_minor": 2
}
